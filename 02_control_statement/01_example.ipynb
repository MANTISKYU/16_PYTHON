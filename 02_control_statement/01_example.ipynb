{
 "cells": [
  {
   "cell_type": "code",
   "execution_count": null,
   "metadata": {},
   "outputs": [],
   "source": [
    "# 시험 점수를 입력받아 학점을 출력하는 프로그램을 작성하세요.\n",
    "# 90점 이상: A\n",
    "# 80점 이상 90점 미만: B\n",
    "# 70점 이상 80점 미만: C\n",
    "# 60점 이상 70점 미만: D\n",
    "# 60점 미만: F\n",
    "\n",
    "score = int(input(\"시험 점수를 입력하세요: \"))\n",
    "\n"
   ]
  },
  {
   "cell_type": "code",
   "execution_count": null,
   "metadata": {},
   "outputs": [],
   "source": [
    "# 1부터 7까지의 숫자를 입력받아 해당하는 요일을 출력하는 프로그램을 작성하세요.\n",
    "# 1: 월요일, 2: 화요일, ..., 7: 일요일\n",
    "# match-case 문을 사용하세요.\n",
    "\n",
    "num = int(input(\"1부터 7까지의 숫자를 입력하세요: \"))"
   ]
  },
  {
   "cell_type": "code",
   "execution_count": null,
   "metadata": {},
   "outputs": [],
   "source": [
    "# 미리 설정된 아이디와 비밀번호가 있다고 가정합니다.\n",
    "# 사용자로부터 아이디와 비밀번호를 입력받아 로그인 성공 여부를 출력하는 프로그램을 작성하세요.\n",
    "\n",
    "setting_id = \"python\"\n",
    "setting_password = \"1234\"\n",
    "\n",
    "input_id = input(\"아이디를 입력하세요: \")\n",
    "input_password = input(\"비밀번호를 입력하세요: \")"
   ]
  }
 ],
 "metadata": {
  "kernelspec": {
   "display_name": "pylecture_env",
   "language": "python",
   "name": "python3"
  },
  "language_info": {
   "name": "python",
   "version": "3.12.7"
  }
 },
 "nbformat": 4,
 "nbformat_minor": 2
}
