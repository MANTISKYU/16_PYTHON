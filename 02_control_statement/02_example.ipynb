{
 "cells": [
  {
   "cell_type": "code",
   "execution_count": null,
   "metadata": {},
   "outputs": [],
   "source": [
    "# 1. while 루프를 사용하여 사용자가 '종료'를 입력할 때까지 계속해서 사용자의 입력을 받고 출력하는 프로그램을 작성하세요.\n"
   ]
  },
  {
   "cell_type": "code",
   "execution_count": null,
   "metadata": {},
   "outputs": [],
   "source": [
    "# 2. for 루프와 range() 함수를 사용하여 1부터 20까지의 짝수만 출력하는 프로그램을 작성하세요."
   ]
  },
  {
   "cell_type": "code",
   "execution_count": null,
   "metadata": {},
   "outputs": [],
   "source": [
    "# 3. 다음 리스트에서 각 동물의 이름과 글자 수를 출력하는 프로그램을 작성하세요:\n",
    "\n",
    "animals = ['고양이', '강아지', '코끼리', '기린']"
   ]
  }
 ],
 "metadata": {
  "kernelspec": {
   "display_name": "pylecture_env",
   "language": "python",
   "name": "python3"
  },
  "language_info": {
   "name": "python",
   "version": "3.12.7"
  }
 },
 "nbformat": 4,
 "nbformat_minor": 2
}
