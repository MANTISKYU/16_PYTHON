{
 "cells": [
  {
   "cell_type": "markdown",
   "metadata": {},
   "source": [
    "튜플"
   ]
  },
  {
   "cell_type": "markdown",
   "metadata": {},
   "source": [
    "04-01. 튜플 개요\n",
    "\n",
    "튜플이란?\n",
    "여러개의 값을 하나의 변수에 저장할 수 있는 자료구조이다.\n",
    "튜플은 한번 생성되면 그 갑을 변경할 수 없다\n",
    "\n",
    "튜플은 소괄호를 사용하거나 사용하지 않고 생성할 수 있으며, 생성된 이후에는 그값을 변경할 수 없다."
   ]
  },
  {
   "cell_type": "markdown",
   "metadata": {},
   "source": [
    "튜플명 = ('값1', '값2', ...)"
   ]
  },
  {
   "cell_type": "markdown",
   "metadata": {},
   "source": [
    "tuples = {1, 2 '값2'}"
   ]
  },
  {
   "cell_type": "markdown",
   "metadata": {},
   "source": []
  },
  {
   "cell_type": "code",
   "execution_count": 2,
   "metadata": {},
   "outputs": [
    {
     "name": "stdout",
     "output_type": "stream",
     "text": [
      "((1, 2, 'hello'), ('test', 1, 2, 3, 4))\n",
      "(1, 2, 'hello')\n",
      "hello\n"
     ]
    }
   ],
   "source": [
    "tuples = (1, 2, 'hello'), ('test', 1, 2, 3, 4)\n",
    "\n",
    "print(tuples)\n",
    "print(tuples[0])\n",
    "print(tuples[0][2])"
   ]
  },
  {
   "cell_type": "markdown",
   "metadata": {},
   "source": [
    "튜플연산"
   ]
  },
  {
   "cell_type": "markdown",
   "metadata": {},
   "source": [
    "불변 객체"
   ]
  },
  {
   "cell_type": "markdown",
   "metadata": {},
   "source": [
    "튜플은 불변 객체이므로 요소 값을 할당하면 추가, 수정, 삭제가 불가능하다\n",
    "이떄 값을 재할당하면 값이 다시 입력될 수 있는데,\n",
    "기존의 변수에 값이 재할당되는 것이 아닌, 새로운 변수가 생성되는 것"
   ]
  },
  {
   "cell_type": "code",
   "execution_count": null,
   "metadata": {},
   "outputs": [],
   "source": [
    "tuples = (1, 2, 'hello'), ('test', 1, 2, 3, 4)\n",
    "3 tuples[0] = (1,2, 3, 4)"
   ]
  },
  {
   "cell_type": "markdown",
   "metadata": {},
   "source": []
  },
  {
   "cell_type": "markdown",
   "metadata": {},
   "source": []
  },
  {
   "cell_type": "markdown",
   "metadata": {},
   "source": []
  },
  {
   "cell_type": "markdown",
   "metadata": {},
   "source": [
    "튜플간 연산"
   ]
  },
  {
   "cell_type": "code",
   "execution_count": 3,
   "metadata": {},
   "outputs": [],
   "source": [
    "#튜플 합치기\n",
    "another_safari_tuple = ('monkey', 'tiger', 'wolf')\n",
    "print(safari_tuple)"
   ]
  },
  {
   "cell_type": "markdown",
   "metadata": {},
   "source": []
  }
 ],
 "metadata": {
  "kernelspec": {
   "display_name": "pylecture_env",
   "language": "python",
   "name": "python3"
  },
  "language_info": {
   "codemirror_mode": {
    "name": "ipython",
    "version": 3
   },
   "file_extension": ".py",
   "mimetype": "text/x-python",
   "name": "python",
   "nbconvert_exporter": "python",
   "pygments_lexer": "ipython3",
   "version": "3.12.7"
  }
 },
 "nbformat": 4,
 "nbformat_minor": 2
}
