{
 "cells": [
  {
   "cell_type": "markdown",
   "metadata": {},
   "source": []
  },
  {
   "cell_type": "code",
   "execution_count": null,
   "metadata": {
    "vscode": {
     "languageId": "plaintext"
    }
   },
   "outputs": [],
   "source": []
  },
  {
   "cell_type": "markdown",
   "metadata": {},
   "source": [
    "05-02. 시퀀스 자료형의 연산 및 내장함수\n"
   ]
  },
  {
   "cell_type": "markdown",
   "metadata": {},
   "source": [
    "05-02-01.in"
   ]
  },
  {
   "cell_type": "markdown",
   "metadata": {},
   "source": [
    "[값] in [시퀀스 자료형]으로 사용하며, 우항의 시퀀스 자료형에 좌항의 값이 포함되어 있으면 true 반환\n",
    "\n",
    "문자열에 대한 in연산은 우항의 문자열에 좌항의 문자열이 순서에 맞게 포함되면 true\n",
    "리스트와 튜플에 대한 in연산은 좌항의 요소로, 우항의 자료에 대한 '하나의 요소'로 보기 때문에\n",
    "인덱싱 또는 슬라이싱한 형태로 데이터를 주면 안됨"
   ]
  }
 ],
 "metadata": {
  "language_info": {
   "name": "python"
  }
 },
 "nbformat": 4,
 "nbformat_minor": 2
}
