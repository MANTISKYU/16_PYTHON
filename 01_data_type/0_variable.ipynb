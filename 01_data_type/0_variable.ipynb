{
 "cells": [
  {
   "cell_type": "markdown",
   "metadata": {},
   "source": [
    "### 01-01-01. 변수란?\n",
    "* 프로그램에서 다루는 어떤 자료(정보)를 담는 공간이다.\n",
    "### 01-01-02. 변수 생성\n",
    "- 변수 생성은 대입 연산자 = 를 기준으로 좌항에는 변수의 이름, 우항에는 변수에 담을 자료를 작성한다.\n",
    "- 변수의 생성과 변수의 값 변경 모두 같은 방법으로 작성한다.\n",
    "- 파이썬은 변수 공간의 자료형 선언이 없다.\n",
    "ex) [변수명] = [데이터]"
   ]
  },
  {
   "cell_type": "markdown",
   "metadata": {},
   "source": []
  },
  {
   "cell_type": "markdown",
   "metadata": {},
   "source": [
    "team_name = \"ohgiraffers\"\n",
    "team_name"
   ]
  },
  {
   "cell_type": "markdown",
   "metadata": {},
   "source": [
    "team_name = \"ohgiraffers\"\n",
    "\n",
    "my_team = team_name\n",
    "\n",
    "my team"
   ]
  },
  {
   "cell_type": "markdown",
   "metadata": {},
   "source": []
  },
  {
   "cell_type": "code",
   "execution_count": 1,
   "metadata": {},
   "outputs": [
    {
     "ename": "SyntaxError",
     "evalue": "invalid syntax (2625103726.py, line 5)",
     "output_type": "error",
     "traceback": [
      "\u001b[1;36m  Cell \u001b[1;32mIn[1], line 5\u001b[1;36m\u001b[0m\n\u001b[1;33m    my team\u001b[0m\n\u001b[1;37m       ^\u001b[0m\n\u001b[1;31mSyntaxError\u001b[0m\u001b[1;31m:\u001b[0m invalid syntax\n"
     ]
    }
   ],
   "source": [
    "team_name = \"ohgiraffers\"\n",
    "\n",
    "my_team = team_name\n",
    "\n",
    "my team"
   ]
  },
  {
   "cell_type": "markdown",
   "metadata": {},
   "source": [
    "# 키(cm) 정보를 변수에 담기\n",
    "tall = 179.8\n",
    "print(tall)\n"
   ]
  },
  {
   "cell_type": "code",
   "execution_count": 2,
   "metadata": {},
   "outputs": [
    {
     "name": "stdout",
     "output_type": "stream",
     "text": [
      "179.8\n"
     ]
    }
   ],
   "source": [
    "# 키(cm) 정보를 변수에 담기\n",
    "tall = 179.8\n",
    "print(tall)"
   ]
  },
  {
   "cell_type": "markdown",
   "metadata": {},
   "source": [
    "한글 변수명을 지정할 수 있다.\n"
   ]
  },
  {
   "cell_type": "markdown",
   "metadata": {},
   "source": [
    "우리팀 = \"오지라퍼스\"\n",
    "print(우리팀)"
   ]
  },
  {
   "cell_type": "code",
   "execution_count": 3,
   "metadata": {},
   "outputs": [
    {
     "name": "stdout",
     "output_type": "stream",
     "text": [
      "오지라퍼스\n"
     ]
    }
   ],
   "source": [
    "우리팀 = \"오지라퍼스\"\n",
    "print(우리팀)"
   ]
  }
 ],
 "metadata": {
  "kernelspec": {
   "display_name": "pylecture_env",
   "language": "python",
   "name": "python3"
  },
  "language_info": {
   "codemirror_mode": {
    "name": "ipython",
    "version": 3
   },
   "file_extension": ".py",
   "mimetype": "text/x-python",
   "name": "python",
   "nbconvert_exporter": "python",
   "pygments_lexer": "ipython3",
   "version": "3.12.7"
  }
 },
 "nbformat": 4,
 "nbformat_minor": 2
}
