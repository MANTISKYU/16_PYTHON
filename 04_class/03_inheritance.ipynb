{
 "cells": [
  {
   "cell_type": "markdown",
   "metadata": {},
   "source": [
    "#03. 상속 (inheritance)\n",
    "---\n",
    "## 03-01. 상속 개요\n",
    "### 03-01-01. 상속이란?\n",
    "\n",
    "* 부모 클래스를 상속 받는다는 것\n",
    "* 부모가 가지고 있는 속성이나 메서드를 자신의 것처럼 사용할 수 있다는 의미"
   ]
  },
  {
   "cell_type": "code",
   "execution_count": null,
   "metadata": {},
   "outputs": [],
   "source": [
    "class 자식클래스(부모클래스):\n",
    "<속성1>\n",
    "<속성2...>"
   ]
  },
  {
   "cell_type": "code",
   "execution_count": 1,
   "metadata": {},
   "outputs": [
    {
     "name": "stdout",
     "output_type": "stream",
     "text": [
      "Hello. this is Python\n"
     ]
    }
   ],
   "source": [
    "class Person:\n",
    "    national = \"korea\"\n",
    "    \n",
    "    def greeting(self):\n",
    "        return 'Hello. this is Python'\n",
    "class Student(Person):\n",
    "    pass\n",
    "student = Student()\n",
    "\n",
    "print(student.greeting())"
   ]
  },
  {
   "cell_type": "markdown",
   "metadata": {},
   "source": [
    "## 03-02 상속의 특징\n",
    " 03-02-01 다중 상속 지원\n",
    " 부모클래스를 여러개 가지는 다중상속을 지원한다."
   ]
  },
  {
   "cell_type": "code",
   "execution_count": 4,
   "metadata": {},
   "outputs": [
    {
     "name": "stdout",
     "output_type": "stream",
     "text": [
      "korea\n",
      "I am learning Python\n",
      "Hello. this is Python\n",
      "__main__\n"
     ]
    }
   ],
   "source": [
    "class Person:\n",
    "    national = \"korea\"\n",
    "    \n",
    "    def greeting(self):\n",
    "        return 'Hello. this is Python'\n",
    "class Learner:\n",
    "    def greeting(self):\n",
    "        return 'Hello I am Learner'\n",
    "    def learn(self):\n",
    "        return 'I am learning Python'\n",
    "\n",
    "class Student(Person, Learner):\n",
    "    pass\n",
    "student = Student()\n",
    "print(student.national)\n",
    "print(student.learn())\n",
    "\n",
    "print(student.greeting())\n",
    "print(student.__module__)"
   ]
  },
  {
   "cell_type": "markdown",
   "metadata": {},
   "source": [
    "## 03-02-02 다른 모듈의 클래스 상속 가능\n",
    "* 다른 모듈에 포함된 클래스도 상속 받을 수 있다.\n"
   ]
  },
  {
   "cell_type": "code",
   "execution_count": null,
   "metadata": {},
   "outputs": [],
   "source": [
    "import modules\n",
    "\n",
    "class Modules_test()\n",
    "\n",
    "modules_test = Modules_test()\n",
    "\n",
    "print(modules)"
   ]
  },
  {
   "cell_type": "markdown",
   "metadata": {},
   "source": [
    "부모클래스의 속성 오버라이딩 가능"
   ]
  },
  {
   "cell_type": "code",
   "execution_count": 7,
   "metadata": {},
   "outputs": [
    {
     "ename": "TypeError",
     "evalue": "Student() takes no arguments",
     "output_type": "error",
     "traceback": [
      "\u001b[1;31m---------------------------------------------------------------------------\u001b[0m",
      "\u001b[1;31mTypeError\u001b[0m                                 Traceback (most recent call last)",
      "Cell \u001b[1;32mIn[7], line 12\u001b[0m\n\u001b[0;32m      9\u001b[0m     \u001b[38;5;28;01mdef\u001b[39;00m \u001b[38;5;21mlearn\u001b[39m(\u001b[38;5;28mself\u001b[39m):\n\u001b[0;32m     10\u001b[0m         \u001b[38;5;28;01mreturn\u001b[39;00m \u001b[38;5;124mf\u001b[39m\u001b[38;5;124m'\u001b[39m\u001b[38;5;124mI am learning \u001b[39m\u001b[38;5;132;01m{\u001b[39;00m\u001b[38;5;28mself\u001b[39m\u001b[38;5;241m.\u001b[39msubject\u001b[38;5;132;01m}\u001b[39;00m\u001b[38;5;124m'\u001b[39m\n\u001b[1;32m---> 12\u001b[0m \u001b[38;5;28;43;01mclass\u001b[39;49;00m\u001b[43m \u001b[49m\u001b[38;5;21;43;01mStudent\u001b[39;49;00m\u001b[43m(\u001b[49m\u001b[43mLearner\u001b[49m\u001b[43m)\u001b[49m\u001b[43m:\u001b[49m\n\u001b[0;32m     13\u001b[0m \u001b[43m    \u001b[49m\u001b[38;5;28;43;01mdef\u001b[39;49;00m\u001b[43m \u001b[49m\u001b[38;5;21;43m__init__\u001b[39;49m\u001b[43m(\u001b[49m\u001b[38;5;28;43mself\u001b[39;49m\u001b[43m,\u001b[49m\u001b[43m \u001b[49m\u001b[43mname\u001b[49m\u001b[43m,\u001b[49m\u001b[43m \u001b[49m\u001b[43msubject\u001b[49m\u001b[43m)\u001b[49m\u001b[43m:\u001b[49m\n\u001b[0;32m     14\u001b[0m \u001b[43m            \u001b[49m\u001b[43mLearner\u001b[49m\u001b[38;5;241;43m.\u001b[39;49m\u001b[38;5;21;43m__init__\u001b[39;49m\u001b[43m(\u001b[49m\u001b[38;5;28;43mself\u001b[39;49m\u001b[43m,\u001b[49m\u001b[43m \u001b[49m\u001b[43msubject\u001b[49m\u001b[43m)\u001b[49m\n",
      "Cell \u001b[1;32mIn[7], line 21\u001b[0m, in \u001b[0;36mStudent\u001b[1;34m()\u001b[0m\n\u001b[0;32m     18\u001b[0m \u001b[38;5;28;01mdef\u001b[39;00m \u001b[38;5;21mgreeting\u001b[39m(\u001b[38;5;28mself\u001b[39m):\n\u001b[0;32m     19\u001b[0m         \u001b[38;5;28;01mreturn\u001b[39;00m \u001b[38;5;124mf\u001b[39m\u001b[38;5;124m'\u001b[39m\u001b[38;5;124mhello my name is \u001b[39m\u001b[38;5;132;01m{\u001b[39;00m\u001b[38;5;28mself\u001b[39m\u001b[38;5;241m.\u001b[39mname\u001b[38;5;132;01m}\u001b[39;00m\u001b[38;5;124m'\u001b[39m\n\u001b[1;32m---> 21\u001b[0m student \u001b[38;5;241m=\u001b[39m \u001b[43mStudent\u001b[49m\u001b[43m(\u001b[49m\u001b[38;5;124;43m'\u001b[39;49m\u001b[38;5;124;43m곰\u001b[39;49m\u001b[38;5;124;43m'\u001b[39;49m\u001b[43m,\u001b[49m\u001b[43m \u001b[49m\u001b[38;5;124;43m'\u001b[39;49m\u001b[38;5;124;43mpython\u001b[39;49m\u001b[38;5;124;43m'\u001b[39;49m\u001b[43m)\u001b[49m\n\u001b[0;32m     22\u001b[0m \u001b[38;5;28mprint\u001b[39m(student\u001b[38;5;241m.\u001b[39mgreeting())\n\u001b[0;32m     23\u001b[0m \u001b[38;5;28mprint\u001b[39m(student\u001b[38;5;241m.\u001b[39mlearn())\n",
      "\u001b[1;31mTypeError\u001b[0m: Student() takes no arguments"
     ]
    }
   ],
   "source": [
    "class Person:\n",
    "    national = \"korea\"\n",
    "    \n",
    "    def greeting(self):\n",
    "        return 'Hello. this is Python'\n",
    "class Learner(Person):\n",
    "    def __init__(self,subject):\n",
    "        self.subject = subject\n",
    "    def learn(self):\n",
    "        return f'I am learning {self.subject}'\n",
    "    \n",
    "class Student(Learner):\n",
    "    def __init__(self, name, subject):\n",
    "            Learner.__init__(self, subject)\n",
    "            self.name = name\n",
    "            \n",
    "            \n",
    "    def greeting(self):\n",
    "            return f'hello my name is {self.name}'\n",
    "    \n",
    "    student = Student('곰', 'python')\n",
    "    print(student.greeting())\n",
    "    print(student.learn())\n",
    "    \n",
    "    print(Student.__mro__)\n",
    "            \n"
   ]
  }
 ],
 "metadata": {
  "kernelspec": {
   "display_name": "pylecture_env",
   "language": "python",
   "name": "python3"
  },
  "language_info": {
   "codemirror_mode": {
    "name": "ipython",
    "version": 3
   },
   "file_extension": ".py",
   "mimetype": "text/x-python",
   "name": "python",
   "nbconvert_exporter": "python",
   "pygments_lexer": "ipython3",
   "version": "3.12.7"
  }
 },
 "nbformat": 4,
 "nbformat_minor": 2
}
